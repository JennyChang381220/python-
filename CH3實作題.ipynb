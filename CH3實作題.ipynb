{
 "cells": [
  {
   "cell_type": "code",
   "execution_count": 1,
   "metadata": {},
   "outputs": [
    {
     "name": "stdout",
     "output_type": "stream",
     "text": [
      "輸入矩形的長與寬:23.5,19\n",
      "23.5\n",
      "19\n",
      "85.0\n",
      "446.5\n"
     ]
    }
   ],
   "source": [
    "num1,num2 = eval(input(\"輸入矩形的長與寬:\"))\n",
    "perimeter = num1*2 + num2*2\n",
    "area = num1*num2\n",
    "print(num1)\n",
    "print(num2)\n",
    "print(perimeter)\n",
    "print(area)"
   ]
  },
  {
   "cell_type": "code",
   "execution_count": 2,
   "metadata": {},
   "outputs": [
    {
     "name": "stdout",
     "output_type": "stream",
     "text": [
      "輸入正三角形的邊長:10\n",
      "8.660254037844386\n",
      "43.301270189221924\n"
     ]
    }
   ],
   "source": [
    "num1 = eval(input(\"輸入正三角形的邊長:\"))\n",
    "height = 3**0.5/2*num1\n",
    "area = 3**0.5/4*num1*num1\n",
    "print(height)\n",
    "print(area)"
   ]
  },
  {
   "cell_type": "code",
   "execution_count": 4,
   "metadata": {},
   "outputs": [
    {
     "name": "stdout",
     "output_type": "stream",
     "text": [
      "選手在X分Y秒跑完Z公里，輸入XYZ數值10,25,3\n",
      "10.799999999999997miles/hour"
     ]
    }
   ],
   "source": [
    "num1,num2,num3 = eval(input(\"選手在X分Y秒跑完Z公里，輸入XYZ數值\"))\n",
    "speed = ((num3/(num1*60 + num2))*60*60)/1.6\n",
    "print(speed,end = \"miles/hour\")"
   ]
  },
  {
   "cell_type": "code",
   "execution_count": 7,
   "metadata": {},
   "outputs": [
    {
     "name": "stdout",
     "output_type": "stream",
     "text": [
      "輸入公哩數:1\n",
      "1.6km"
     ]
    }
   ],
   "source": [
    "miles = eval(input(\"輸入公哩數:\"))\n",
    "km = miles*1.6\n",
    "print(km,end = \"km\")"
   ]
  },
  {
   "cell_type": "code",
   "execution_count": 8,
   "metadata": {},
   "outputs": [
    {
     "name": "stdout",
     "output_type": "stream",
     "text": [
      "輸入華氏溫度:70\n",
      "21.11111111111111度C"
     ]
    }
   ],
   "source": [
    "F = eval(input(\"輸入華氏溫度:\"))\n",
    "C = ((F - 32)*5/9)\n",
    "print(C,end = \"度C\")"
   ]
  },
  {
   "cell_type": "code",
   "execution_count": 10,
   "metadata": {},
   "outputs": [
    {
     "name": "stdout",
     "output_type": "stream",
     "text": [
      "輸入三個整數:10,20,30\n",
      "總和= 60\n",
      "平均= 20.0\n"
     ]
    }
   ],
   "source": [
    "num1,num2,num3 = eval(input(\"輸入三個整數:\"))\n",
    "total = num1 + num2 + num3\n",
    "average = total/3\n",
    "print(\"總和=\",total)\n",
    "print(\"平均=\",average)"
   ]
  },
  {
   "cell_type": "code",
   "execution_count": 11,
   "metadata": {},
   "outputs": [
    {
     "name": "stdout",
     "output_type": "stream",
     "text": [
      "輸入姓名:張筱婕\n",
      "輸入學號:109230073\n",
      "輸入地址:木柵路\n",
      "張筱婕\n",
      "109230073\n",
      "木柵路\n"
     ]
    }
   ],
   "source": [
    "str1 = (input(\"輸入姓名:\"))\n",
    "num1 = eval(input(\"輸入學號:\"))\n",
    "str2 = (input(\"輸入地址:\"))\n",
    "print(str1)\n",
    "print(num1)\n",
    "print(str2)"
   ]
  },
  {
   "cell_type": "code",
   "execution_count": null,
   "metadata": {},
   "outputs": [],
   "source": []
  }
 ],
 "metadata": {
  "kernelspec": {
   "display_name": "Python 3",
   "language": "python",
   "name": "python3"
  },
  "language_info": {
   "codemirror_mode": {
    "name": "ipython",
    "version": 3
   },
   "file_extension": ".py",
   "mimetype": "text/x-python",
   "name": "python",
   "nbconvert_exporter": "python",
   "pygments_lexer": "ipython3",
   "version": "3.7.3"
  }
 },
 "nbformat": 4,
 "nbformat_minor": 2
}
